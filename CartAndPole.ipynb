{
 "cells": [
  {
   "cell_type": "code",
   "execution_count": 8,
   "metadata": {},
   "outputs": [],
   "source": [
    "from CartAndPole.QLearningTabular.Agent import Agent\n",
    "from CartAndPole.QLearningTabular.Policy import Policy\n",
    "from Core.Utility.EpsilonGreedyStrategy import EpsilonGreedyStrategy\n",
    "from CartAndPole.QLearningTabular.EnvironmentManager import EnvironmentManager\n",
    "from IPython.display import clear_output, display\n",
    "from itertools import count\n",
    "from Core.Utility.Helper import Helper\n",
    "from Core.Utility.DecayingLearningRate import DecayingLearningRate\n",
    "from Core.Utility.UCB import UCB \n",
    "import numpy as np\n",
    "\n",
    "epsilon_start = 1\n",
    "epsilon_end = 0.01\n",
    "epsilon_decay = 0.001\n",
    "\n",
    "initial_lr = 0.01\n",
    "decay_rate = 0.000002\n",
    "min_lr = 0.001"
   ]
  },
  {
   "cell_type": "code",
   "execution_count": 16,
   "metadata": {},
   "outputs": [
    {
     "data": {
      "text/plain": [
       "'episode 99800'"
      ]
     },
     "metadata": {},
     "output_type": "display_data"
    },
    {
     "data": {
      "text/plain": [
       "61"
      ]
     },
     "metadata": {},
     "output_type": "display_data"
    }
   ],
   "source": [
    "\n",
    "\n",
    "\n",
    "# epsilon_start = 1\n",
    "# epsilon_end = 0.01\n",
    "# epsilon_decay = 0.001\n",
    "\n",
    "# initial_lr = 0.01\n",
    "# decay_rate = 0.00002\n",
    "# min_lr = 0.001\n",
    "\n",
    "\n",
    "agent = Agent()\n",
    "stateSpace = agent.initializeState()\n",
    "epsilonGreedy = EpsilonGreedyStrategy(epsilon_start, epsilon_end, epsilon_decay)\n",
    "decayingLearningRate = DecayingLearningRate(initial_lr, decay_rate, min_lr)\n",
    "environment = EnvironmentManager('CartPole-v1')\n",
    "policy = Policy() \n",
    "policy.initializePolicy(stateSpace, environment.actionSpace.n)\n",
    "ucb = UCB(environment.actionSpace.n, len(stateSpace), .1)\n",
    "# utility = Utility()\n",
    "\n",
    "\n",
    "numberOfEpisodes = 100000\n",
    "score = [0]\n",
    "scoreCounter = 0\n",
    "stateDict = dict(zip(stateSpace, range(len(stateSpace))))\n",
    "for episode in range(numberOfEpisodes):\n",
    "    stateHasChanged = True\n",
    "        \n",
    "    for step in count():\n",
    "        \n",
    "        \n",
    "      \n",
    "        if(stateHasChanged):\n",
    "            \n",
    "            currentState = agent.getState(environment.observation)\n",
    "           \n",
    "            action = epsilonGreedy.chooseAction(currentState, policy, episode)\n",
    "            # action = policy.getRandomAction()\n",
    "            # action = policy.getMaxAction(currentState)\n",
    "            # action = ucb.chooseAction(stateDict[currentState])\n",
    "            reward, terminated = environment.step(action)\n",
    "            # ucb.update(stateDict[currentState], action, reward)\n",
    "            nextState = agent.getState(environment.observation)\n",
    "         \n",
    "           \n",
    "            # policy.setTrainingRate(decayingLearningRate.getLearningRate(episode))\n",
    "            if(not terminated):\n",
    "                # policy.setTrainingRate(0.001)\n",
    "                policy.train(currentState, nextState, reward, action)\n",
    "            \n",
    "            stateHasChanged = currentState != nextState\n",
    "            \n",
    "        else:\n",
    "            reward, terminated = environment.step(action)\n",
    "            nextState = agent.getState(environment.observation)\n",
    "            stateHasChanged = currentState != nextState\n",
    "          \n",
    "        \n",
    "        # print('state has changed: ', stateHasChanged)\n",
    "        # print('currentState: ', currentState)\n",
    "        # print('nextStateState: ', nextState)\n",
    "        # print('action ', action)\n",
    "        # print('reward ', reward)\n",
    "        # print('terminated ', terminated)\n",
    "        \n",
    "        scoreCounter += 1\n",
    "        \n",
    "        \n",
    "        \n",
    "        if terminated:\n",
    "            reward = -10\n",
    "            policy.train(currentState, nextState, reward, action)\n",
    "            \n",
    "            score.append(scoreCounter)\n",
    "            scoreCounter = 0\n",
    "            environment.reset()\n",
    "            \n",
    "            if(episode % 200 == 0):\n",
    "                clear_output(wait=True)\n",
    "                display(f\"episode {episode}\")\n",
    "                display(int(Helper.getMovingAverage3(300, score)))\n",
    "                # utility.plot(300 ,score)\n",
    "            \n",
    "            break\n",
    "        \n",
    "       \n",
    "            \n",
    "            \n",
    "environment.close()\n"
   ]
  },
  {
   "cell_type": "code",
   "execution_count": 11,
   "metadata": {},
   "outputs": [],
   "source": [
    "environment = EnvironmentManager('CartPole-v1', True)"
   ]
  },
  {
   "cell_type": "code",
   "execution_count": 12,
   "metadata": {},
   "outputs": [],
   "source": [
    "numberOfEpisodes = 15\n",
    "\n",
    "for episode in range(numberOfEpisodes):\n",
    "        \n",
    "    for step in count():\n",
    "        clear_output(wait=True)\n",
    "        # display(f\"step {episode}\")\n",
    "        currentState = agent.getState(environment.observation)\n",
    "        \n",
    "        action = policy.getMaxAction(currentState)\n",
    "        # action = policy.getRandomAction()\n",
    "        reward, terminated = environment.step(action)\n",
    "        nextState = agent.getState(environment.observation)\n",
    "        \n",
    "        \n",
    "        \n",
    "        if terminated:\n",
    "            environment.reset()\n",
    "            break\n",
    "            \n",
    "environment.close()"
   ]
  },
  {
   "cell_type": "code",
   "execution_count": null,
   "metadata": {},
   "outputs": [],
   "source": [
    "\n",
    "s = []\n",
    "for i, j in policy.Q.items():\n",
    "    if(max(j) > 0):\n",
    "        s.append(f'{i} \\t {j}')\n",
    "        \n",
    "print(len(s))\n",
    "\n",
    "s\n",
    "    \n",
    "\n",
    "\n",
    "# import importlib\n",
    "# ag = importlib.import_module(\"Utility\")\n",
    "# ag = importlib.reload(ag)\n"
   ]
  }
 ],
 "metadata": {
  "kernelspec": {
   "display_name": "Python 3",
   "language": "python",
   "name": "python3"
  },
  "language_info": {
   "codemirror_mode": {
    "name": "ipython",
    "version": 3
   },
   "file_extension": ".py",
   "mimetype": "text/x-python",
   "name": "python",
   "nbconvert_exporter": "python",
   "pygments_lexer": "ipython3",
   "version": "3.12.3"
  }
 },
 "nbformat": 4,
 "nbformat_minor": 2
}
