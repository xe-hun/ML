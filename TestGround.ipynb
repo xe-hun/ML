{
 "cells": [
  {
   "cell_type": "code",
   "execution_count": null,
   "metadata": {},
   "outputs": [],
   "source": [
    "# ag = importlib.import_module(\"Agent\")\n",
    "# ag = importlib.reload(ag)"
   ]
  },
  {
   "cell_type": "code",
   "execution_count": 1,
   "metadata": {},
   "outputs": [],
   "source": [
    "from Agent import Agent\n",
    "from Policy import Policy\n",
    "from EpsilonGreedyStrategy import EpsilonGreedyStrategy\n",
    "from EnvironmentManager import EnvironmentManager\n",
    "from IPython.display import clear_output, display\n",
    "from itertools import count\n",
    "from Utility import Utility"
   ]
  },
  {
   "cell_type": "code",
   "execution_count": 2,
   "metadata": {},
   "outputs": [],
   "source": [
    "epsilon_start = 1\n",
    "epsilon_end = 0.01\n",
    "epsilon_decay = 0.005\n",
    "\n",
    "\n",
    "agent = Agent()\n",
    "environment = EnvironmentManager()\n",
    "stateSpace = agent.initializeState(environment.stateSpaceSize)\n",
    "epsilonGreedy = EpsilonGreedyStrategy(epsilon_start, epsilon_end, epsilon_decay)\n",
    "policy = Policy()\n",
    "policy.initializeQValues(stateSpace, environment.actionSpaceSize)\n",
    "utility = Utility()\n"
   ]
  },
  {
   "cell_type": "code",
   "execution_count": null,
   "metadata": {},
   "outputs": [],
   "source": []
  },
  {
   "cell_type": "code",
   "execution_count": 3,
   "metadata": {},
   "outputs": [
    {
     "data": {
      "text/plain": [
       "'episodes 2999'"
      ]
     },
     "metadata": {},
     "output_type": "display_data"
    }
   ],
   "source": [
    "# numberOfEpisodes = 5000\n",
    "numberOfEpisodes = 3000\n",
    "rewardPerEpisode = []\n",
    "rewardCounter = 0;\n",
    "for episode in range(numberOfEpisodes):\n",
    "        \n",
    "    for step in count():\n",
    "        clear_output(wait=True)\n",
    "        display(f\"episodes {episode}\")\n",
    "        currentState = agent.getState(environment.observation)\n",
    "        \n",
    "        explorationRate = epsilonGreedy.get_exploration_rate(current_step=episode)\n",
    "        # explorationRate = 1 / (episode + 1)\n",
    "        action = agent.selectAction(currentState, policy, explorationRate)\n",
    "        # action = policy.getRandomAction()\n",
    "        reward, terminated = environment.step(action)\n",
    "        nextState = agent.getState(environment.observation)\n",
    "        \n",
    "        policy.train(currentState, nextState, reward, action)\n",
    "        \n",
    "        rewardCounter = rewardCounter + reward\n",
    "        \n",
    "        \n",
    "        if terminated:\n",
    "            rewardPerEpisode.append(rewardCounter)\n",
    "            rewardCounter = 0\n",
    "            environment.reset()\n",
    "            # utility.plot(300 ,rewardPerEpisode)\n",
    "            break\n",
    "            \n",
    "environment.close()\n"
   ]
  },
  {
   "cell_type": "code",
   "execution_count": null,
   "metadata": {},
   "outputs": [],
   "source": [
    "policy.Q"
   ]
  },
  {
   "cell_type": "markdown",
   "metadata": {},
   "source": [
    "\n",
    "Inference"
   ]
  },
  {
   "cell_type": "code",
   "execution_count": 7,
   "metadata": {},
   "outputs": [],
   "source": [
    "import importlib\n",
    "import time\n",
    "en = importlib.import_module(\"EnvironmentManager\")\n",
    "en = importlib.reload(en)\n",
    "\n",
    "ag = importlib.import_module(\"Agent\")\n",
    "ag = importlib.reload(ag)\n",
    "agent = ag.Agent()\n",
    "environment = en.EnvironmentManager(render=True)\n",
    "stateSpace = agent.initializeState(environment.stateSpaceSize)"
   ]
  },
  {
   "cell_type": "code",
   "execution_count": 8,
   "metadata": {},
   "outputs": [
    {
     "ename": "",
     "evalue": "",
     "output_type": "error",
     "traceback": [
      "\u001b[1;31mThe Kernel crashed while executing code in the current cell or a previous cell. \n",
      "\u001b[1;31mPlease review the code in the cell(s) to identify a possible cause of the failure. \n",
      "\u001b[1;31mClick <a href='https://aka.ms/vscodeJupyterKernelCrash'>here</a> for more info. \n",
      "\u001b[1;31mView Jupyter <a href='command:jupyter.viewOutput'>log</a> for further details."
     ]
    }
   ],
   "source": [
    "\n",
    "\n",
    "numberOfEpisodes = 10\n",
    "\n",
    "for episode in range(numberOfEpisodes):\n",
    "        \n",
    "    for step in count():\n",
    "      \n",
    "        currentState = agent.getState(environment.observation)\n",
    "        \n",
    "        action = agent.selectAction(currentState, policy)\n",
    "        reward, terminated = environment.step(action)\n",
    "        nextState = agent.getState(environment.observation)\n",
    "        \n",
    "        rewardCounter = rewardCounter + reward\n",
    "        \n",
    "        time.sleep(1)\n",
    "        if terminated:\n",
    "            rewardPerEpisode.append(rewardCounter)\n",
    "            rewardCounter = 0\n",
    "            environment.reset()\n",
    "            break\n",
    "            \n",
    "environment.close()"
   ]
  },
  {
   "cell_type": "code",
   "execution_count": 8,
   "metadata": {},
   "outputs": [
    {
     "data": {
      "text/plain": [
       "29"
      ]
     },
     "execution_count": 8,
     "metadata": {},
     "output_type": "execute_result"
    }
   ],
   "source": []
  },
  {
   "cell_type": "code",
   "execution_count": null,
   "metadata": {},
   "outputs": [],
   "source": [
    "# epsilon_start = 1\n",
    "# epsilon_end = 0.01\n",
    "# epsilon_decay = 0.001\n",
    "\n",
    "\n",
    "# epsilonGreedy = EpsilonGreedyStrategy(epsilon_start, epsilon_end, epsilon_decay)"
   ]
  },
  {
   "cell_type": "code",
   "execution_count": 24,
   "metadata": {},
   "outputs": [],
   "source": [
    "environment.close()"
   ]
  },
  {
   "cell_type": "code",
   "execution_count": null,
   "metadata": {},
   "outputs": [],
   "source": []
  },
  {
   "cell_type": "code",
   "execution_count": null,
   "metadata": {},
   "outputs": [],
   "source": []
  },
  {
   "cell_type": "code",
   "execution_count": null,
   "metadata": {},
   "outputs": [],
   "source": [
    "\n"
   ]
  },
  {
   "cell_type": "code",
   "execution_count": null,
   "metadata": {},
   "outputs": [],
   "source": []
  },
  {
   "cell_type": "code",
   "execution_count": null,
   "metadata": {},
   "outputs": [],
   "source": []
  }
 ],
 "metadata": {
  "kernelspec": {
   "display_name": "Python 3",
   "language": "python",
   "name": "python3"
  },
  "language_info": {
   "codemirror_mode": {
    "name": "ipython",
    "version": 3
   },
   "file_extension": ".py",
   "mimetype": "text/x-python",
   "name": "python",
   "nbconvert_exporter": "python",
   "pygments_lexer": "ipython3",
   "version": "3.12.2"
  }
 },
 "nbformat": 4,
 "nbformat_minor": 2
}
