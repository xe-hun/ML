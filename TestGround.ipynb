{
 "cells": [
  {
   "cell_type": "code",
   "execution_count": null,
   "metadata": {},
   "outputs": [],
   "source": [
    "# ag = importlib.import_module(\"Agent\")\n",
    "# ag = importlib.reload(ag)"
   ]
  },
  {
   "cell_type": "code",
   "execution_count": 1,
   "metadata": {},
   "outputs": [],
   "source": [
    "from Agent import Agent\n",
    "from Policy import Policy\n",
    "from EpsilonGreedyStrategy import EpsilonGreedyStrategy\n",
    "from EnvironmentManager import EnvironmentManager\n",
    "from IPython.display import clear_output, display\n",
    "from itertools import count\n",
    "from Utility import Utility"
   ]
  },
  {
   "cell_type": "code",
   "execution_count": 2,
   "metadata": {},
   "outputs": [],
   "source": [
    "epsilon_start = 1\n",
    "epsilon_end = 0.01\n",
    "epsilon_decay = 0.01\n",
    "\n",
    "\n",
    "agent = Agent()\n",
    "environment = EnvironmentManager()\n",
    "stateSpace = agent.initializeState(environment.stateSpaceSize)\n",
    "epsilonGreedy = EpsilonGreedyStrategy(epsilon_start, epsilon_end, epsilon_decay)\n",
    "policy = Policy()\n",
    "policy.initializeQValues(stateSpace, environment.actionSpaceSize)\n",
    "utility = Utility()\n"
   ]
  },
  {
   "cell_type": "code",
   "execution_count": null,
   "metadata": {},
   "outputs": [],
   "source": [
    "# epsilonGreedy.get_exploration_rate(1000)"
   ]
  },
  {
   "cell_type": "code",
   "execution_count": 3,
   "metadata": {},
   "outputs": [
    {
     "data": {
      "text/plain": [
       "'episodes 3711'"
      ]
     },
     "metadata": {},
     "output_type": "display_data"
    }
   ],
   "source": [
    "# numberOfEpisodes = 5000\n",
    "numberOfEpisodes = 5000\n",
    "rewardPerEpisode = []\n",
    "rewardCounter = 0;\n",
    "for episode in range(numberOfEpisodes):\n",
    "        \n",
    "    for step in count():\n",
    "        clear_output(wait=True)\n",
    "        display(f\"episodes {episode}\")\n",
    "        currentState = agent.getState(environment.observation)\n",
    "        \n",
    "        explorationRate = epsilonGreedy.get_exploration_rate(current_step=episode)\n",
    "        # explorationRate = 1 / (episode + 1)\n",
    "        action = agent.selectAction(currentState, policy, explorationRate)\n",
    "        # action = policy.getRandomAction()\n",
    "        reward, terminated = environment.step(action)\n",
    "        nextState = agent.getState(environment.observation)\n",
    "        \n",
    "        policy.train(currentState, nextState, reward, action)\n",
    "        \n",
    "        rewardCounter = rewardCounter + reward\n",
    "        \n",
    "        \n",
    "        if terminated:\n",
    "            rewardPerEpisode.append(rewardCounter)\n",
    "            rewardCounter = 0\n",
    "            environment.reset()\n",
    "            # utility.plot(300 ,rewardPerEpisode)\n",
    "            break\n",
    "            \n",
    "environment.close()\n"
   ]
  },
  {
   "cell_type": "markdown",
   "metadata": {},
   "source": [
    "\n",
    "Inference"
   ]
  },
  {
   "cell_type": "code",
   "execution_count": null,
   "metadata": {},
   "outputs": [],
   "source": [
    "import importlib\n",
    "import time\n",
    "en = importlib.import_module(\"EnvironmentManager\")\n",
    "en = importlib.reload(en)\n",
    "\n",
    "ag = importlib.import_module(\"Agent\")\n",
    "ag = importlib.reload(ag)\n",
    "agent = ag.Agent()\n",
    "environment = en.EnvironmentManager(render=True)\n",
    "stateSpace = agent.initializeState(environment.stateSpaceSize)"
   ]
  },
  {
   "cell_type": "code",
   "execution_count": 10,
   "metadata": {},
   "outputs": [
    {
     "ename": "NameError",
     "evalue": "name 'time' is not defined",
     "output_type": "error",
     "traceback": [
      "\u001b[0;31m---------------------------------------------------------------------------\u001b[0m",
      "\u001b[0;31mNameError\u001b[0m                                 Traceback (most recent call last)",
      "Cell \u001b[0;32mIn[10], line 15\u001b[0m\n\u001b[1;32m     11\u001b[0m nextState \u001b[38;5;241m=\u001b[39m agent\u001b[38;5;241m.\u001b[39mgetState(environment\u001b[38;5;241m.\u001b[39mobservation)\n\u001b[1;32m     13\u001b[0m rewardCounter \u001b[38;5;241m=\u001b[39m rewardCounter \u001b[38;5;241m+\u001b[39m reward\n\u001b[0;32m---> 15\u001b[0m \u001b[43mtime\u001b[49m\u001b[38;5;241m.\u001b[39msleep(\u001b[38;5;241m1\u001b[39m)\n\u001b[1;32m     16\u001b[0m \u001b[38;5;28;01mif\u001b[39;00m terminated:\n\u001b[1;32m     17\u001b[0m     rewardPerEpisode\u001b[38;5;241m.\u001b[39mappend(rewardCounter)\n",
      "\u001b[0;31mNameError\u001b[0m: name 'time' is not defined"
     ]
    }
   ],
   "source": [
    "\n",
    "\n",
    "numberOfEpisodes = 10\n",
    "\n",
    "for episode in range(numberOfEpisodes):\n",
    "        \n",
    "    for step in count():\n",
    "      \n",
    "        currentState = agent.getState(environment.observation)\n",
    "        \n",
    "        action = agent.selectAction(currentState, policy)\n",
    "        reward, terminated = environment.step(action)\n",
    "        nextState = agent.getState(environment.observation)\n",
    "        \n",
    "        rewardCounter = rewardCounter + reward\n",
    "        \n",
    "        time.sleep(1)\n",
    "        if terminated:\n",
    "            rewardPerEpisode.append(rewardCounter)\n",
    "            rewardCounter = 0\n",
    "            environment.reset()\n",
    "            break\n",
    "            \n",
    "environment.close()"
   ]
  },
  {
   "cell_type": "code",
   "execution_count": 8,
   "metadata": {},
   "outputs": [
    {
     "data": {
      "text/plain": [
       "{0: [0, 0.0, 0.0, 0],\n",
       " 1: [0.0, 0.0, 0.0, 0],\n",
       " 2: [0.0, 0.0, 0.0, 0],\n",
       " 3: [0.0, 0.0, 0.0, 0],\n",
       " 4: [0.0, 0.0, 0.0, 0],\n",
       " 5: [0.0, 0.0, 0.0, 0],\n",
       " 6: [0.0, 0.0, 0, 0],\n",
       " 7: [0, 0, 0, 0],\n",
       " 8: [0.0, 0.0, 0.0, 0.0],\n",
       " 9: [0.0, 0.0, 0.0, 0.0],\n",
       " 10: [0.0, 0.0, 0.0, 0.0],\n",
       " 11: [0.0, 0.0, 0.0, 0.0],\n",
       " 12: [0.0, 0.0, 0.0, 0.0],\n",
       " 13: [0.0, 0.0, 0.0, 0.0],\n",
       " 14: [0.0, 0.0, 0.0, 0.0],\n",
       " 15: [0.0, 0, 0, 0],\n",
       " 16: [0.0, 0.0, 0.0, 0.0],\n",
       " 17: [0.0, 0.0, 0.0, 0.0],\n",
       " 18: [0.0, 0.0, 0.0, 0.0],\n",
       " 19: [0.0, 0.0, 0.0, 0.0],\n",
       " 20: [0.0, 0.0, 0.0, 0.0],\n",
       " 21: [0.0, 0, 0, 0.0],\n",
       " 22: [0.0, 0.0, 0, 0],\n",
       " 23: [0, 0, 0, 0],\n",
       " 24: [0.0, 0.0, 0.0, 0.0],\n",
       " 25: [0.0, 0.0, 0.0, 0.0],\n",
       " 26: [0.0, 0.0, 0.0, 0.0],\n",
       " 27: [0.0, 0.0, 0, 0.0],\n",
       " 28: [0.0, 0, 0, 0],\n",
       " 29: [0, 0, 0.0, 0],\n",
       " 30: [0.0, 0, 0.0, 0.0],\n",
       " 31: [0, 0.0, 0, 0],\n",
       " 32: [0.0, 0.0, 0.0, 0.0],\n",
       " 33: [0.0, 0.0, 0.0, 0.0],\n",
       " 34: [0.0, 0.0, 0.0, 0.0],\n",
       " 35: [0.0, 0.0, 0, 0.0],\n",
       " 36: [0, 0, 0, 0],\n",
       " 37: [0, 0, 0, 0],\n",
       " 38: [0, 0, 0, 0.0],\n",
       " 39: [0.0, 0.0, 0, 0.0],\n",
       " 40: [0.0, 0.0, 0.0, 0.0],\n",
       " 41: [0.0, 0.0, 0.0, 0.0],\n",
       " 42: [0.0, 0, 0, 0],\n",
       " 43: [0, 0, 0, 0],\n",
       " 44: [0, 0, 0, 0],\n",
       " 45: [0, 0, 0, 0],\n",
       " 46: [0, 0, 0, 0],\n",
       " 47: [0, 0, 0, 0.0],\n",
       " 48: [0.0, 0.0, 0.0, 0.0],\n",
       " 49: [0.0, 0.0, 0.0, 0.0],\n",
       " 50: [0, 0, 0, 0],\n",
       " 51: [0, 0, 0, 0],\n",
       " 52: [0, 0, 0, 0],\n",
       " 53: [0, 0, 0, 0],\n",
       " 54: [0, 0, 0, 0],\n",
       " 55: [0, 0, 0, 0],\n",
       " 56: [0.0, 0, 0.0, 0.0],\n",
       " 57: [0.0, 0, 0, 0.0],\n",
       " 58: [0, 0, 0, 0],\n",
       " 59: [0, 0, 0, 0],\n",
       " 60: [0, 0, 0, 0],\n",
       " 61: [0, 0, 0, 0],\n",
       " 62: [0, 0, 0, 0],\n",
       " 63: [0, 0, 0, 0]}"
      ]
     },
     "execution_count": 8,
     "metadata": {},
     "output_type": "execute_result"
    }
   ],
   "source": [
    "policy.Q"
   ]
  },
  {
   "cell_type": "code",
   "execution_count": null,
   "metadata": {},
   "outputs": [],
   "source": [
    "# epsilon_start = 1\n",
    "# epsilon_end = 0.01\n",
    "# epsilon_decay = 0.001\n",
    "\n",
    "\n",
    "# epsilonGreedy = EpsilonGreedyStrategy(epsilon_start, epsilon_end, epsilon_decay)"
   ]
  },
  {
   "cell_type": "code",
   "execution_count": 24,
   "metadata": {},
   "outputs": [],
   "source": [
    "environment.close()"
   ]
  },
  {
   "cell_type": "code",
   "execution_count": null,
   "metadata": {},
   "outputs": [],
   "source": []
  },
  {
   "cell_type": "code",
   "execution_count": null,
   "metadata": {},
   "outputs": [],
   "source": []
  },
  {
   "cell_type": "code",
   "execution_count": null,
   "metadata": {},
   "outputs": [],
   "source": [
    "\n"
   ]
  },
  {
   "cell_type": "code",
   "execution_count": null,
   "metadata": {},
   "outputs": [],
   "source": []
  },
  {
   "cell_type": "code",
   "execution_count": null,
   "metadata": {},
   "outputs": [],
   "source": []
  }
 ],
 "metadata": {
  "kernelspec": {
   "display_name": "Python 3",
   "language": "python",
   "name": "python3"
  },
  "language_info": {
   "codemirror_mode": {
    "name": "ipython",
    "version": 3
   },
   "file_extension": ".py",
   "mimetype": "text/x-python",
   "name": "python",
   "nbconvert_exporter": "python",
   "pygments_lexer": "ipython3",
   "version": "3.10.12"
  }
 },
 "nbformat": 4,
 "nbformat_minor": 2
}
