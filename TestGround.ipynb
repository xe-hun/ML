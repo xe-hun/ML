{
 "cells": [
  {
   "cell_type": "code",
   "execution_count": null,
   "metadata": {},
   "outputs": [],
   "source": [
    "# ag = importlib.import_module(\"Agent\")\n",
    "# ag = importlib.reload(ag)"
   ]
  },
  {
   "cell_type": "code",
   "execution_count": 1,
   "metadata": {},
   "outputs": [],
   "source": [
    "from Agent import Agent\n",
    "from Policy import Policy\n",
    "from EpsilonGreedyStrategy import EpsilonGreedyStrategy\n",
    "from EnvironmentManager import EnvironmentManager\n",
    "from IPython.display import clear_output, display\n",
    "from itertools import count\n",
    "from Utility import Utility"
   ]
  },
  {
   "cell_type": "code",
   "execution_count": 2,
   "metadata": {},
   "outputs": [],
   "source": [
    "epsilon_start = 1\n",
    "epsilon_end = 0.01\n",
    "epsilon_decay = 0.005\n",
    "\n",
    "\n",
    "agent = Agent()\n",
    "environment = EnvironmentManager()\n",
    "stateSpace = agent.initializeState(environment.stateSpaceSize)\n",
    "epsilonGreedy = EpsilonGreedyStrategy(epsilon_start, epsilon_end, epsilon_decay)\n",
    "policy = Policy()\n",
    "policy.initializeQValues(stateSpace, environment.actionSpaceSize)\n",
    "utility = Utility()\n"
   ]
  },
  {
   "cell_type": "code",
   "execution_count": null,
   "metadata": {},
   "outputs": [],
   "source": [
    "# epsilonGreedy.get_exploration_rate(1000)"
   ]
  },
  {
   "cell_type": "code",
   "execution_count": 3,
   "metadata": {},
   "outputs": [
    {
     "data": {
      "text/plain": [
       "'episodes 2999'"
      ]
     },
     "metadata": {},
     "output_type": "display_data"
    }
   ],
   "source": [
    "# numberOfEpisodes = 5000\n",
    "numberOfEpisodes = 3000\n",
    "rewardPerEpisode = []\n",
    "rewardCounter = 0;\n",
    "for episode in range(numberOfEpisodes):\n",
    "        \n",
    "    for step in count():\n",
    "        clear_output(wait=True)\n",
    "        display(f\"episodes {episode}\")\n",
    "        currentState = agent.getState(environment.observation)\n",
    "        \n",
    "        explorationRate = epsilonGreedy.get_exploration_rate(current_step=episode)\n",
    "        # explorationRate = 1 / (episode + 1)\n",
    "        action = agent.selectAction(currentState, policy, explorationRate)\n",
    "        # action = policy.getRandomAction()\n",
    "        reward, terminated = environment.step(action)\n",
    "        nextState = agent.getState(environment.observation)\n",
    "        \n",
    "        policy.train(currentState, nextState, reward, action)\n",
    "        \n",
    "        rewardCounter = rewardCounter + reward\n",
    "        \n",
    "        \n",
    "        if terminated:\n",
    "            rewardPerEpisode.append(rewardCounter)\n",
    "            rewardCounter = 0\n",
    "            environment.reset()\n",
    "            # utility.plot(300 ,rewardPerEpisode)\n",
    "            break\n",
    "            \n",
    "environment.close()\n"
   ]
  },
  {
   "cell_type": "code",
   "execution_count": 4,
   "metadata": {},
   "outputs": [
    {
     "data": {
      "text/plain": [
       "{0: [6.684444640123685e-11,\n",
       "  1.2507232598614792e-06,\n",
       "  0.0,\n",
       "  1.977993687430737e-08],\n",
       " 1: [3.0972812088819274e-08,\n",
       "  2.7807399586181843e-06,\n",
       "  4.116737867788579e-11,\n",
       "  4.1693821081097563e-08],\n",
       " 2: [1.724934028486084e-08,\n",
       "  1.6354117910160254e-08,\n",
       "  9.798079161101978e-06,\n",
       "  8.646931131795943e-08],\n",
       " 3: [9.32113179443366e-08,\n",
       "  2.6046401775767214e-07,\n",
       "  4.1776511478669076e-08,\n",
       "  1.980071890954972e-05],\n",
       " 4: [1.1802962045046323e-08,\n",
       "  4.939305295910662e-07,\n",
       "  6.841656600348638e-05,\n",
       "  4.925446670409893e-07],\n",
       " 5: [3.132645438346401e-08,\n",
       "  0.00013494795070442635,\n",
       "  2.1721055084441292e-07,\n",
       "  2.404300686337894e-07],\n",
       " 6: [3.808757894533256e-06, 0.00023830533003658846, 0.0, 0.0],\n",
       " 7: [2.406215563047411e-08, 0.0002951543887637856, 0.0, 0.0],\n",
       " 8: [5.697365186358873e-09,\n",
       "  1.219584908024352e-06,\n",
       "  1.4422370068045436e-08,\n",
       "  2.2329532100853537e-09],\n",
       " 9: [1.0453002946105861e-08,\n",
       "  3.007198936573397e-12,\n",
       "  3.2155528826846272e-09,\n",
       "  2.8028906474025693e-06],\n",
       " 10: [6.517344455037721e-08,\n",
       "  2.6555158493786505e-08,\n",
       "  8.125333427891726e-06,\n",
       "  7.033642079619491e-08],\n",
       " 11: [3.1932549641038056e-09,\n",
       "  1.9618120142566913e-05,\n",
       "  1.8180181761655387e-08,\n",
       "  1.7867213580959807e-07],\n",
       " 12: [6.961922245816432e-08,\n",
       "  1.2157437219397438e-07,\n",
       "  3.1399728456647015e-07,\n",
       "  7.875807775074097e-05],\n",
       " 13: [0.0,\n",
       "  4.665687310321652e-07,\n",
       "  0.0002743081529779366,\n",
       "  1.8899611319863002e-10],\n",
       " 14: [0.000759430402633502,\n",
       "  2.4850773854333333e-06,\n",
       "  2.0806295620091216e-06,\n",
       "  2.249740571203018e-08],\n",
       " 15: [5.287574397237505e-05, 0.00142242156006118, 0.0, 0.0],\n",
       " 16: [3.904153445687785e-10,\n",
       "  1.315080447774919e-09,\n",
       "  4.817129503977628e-07,\n",
       "  4.619398496628472e-10],\n",
       " 17: [7.32660808057064e-07,\n",
       "  4.874071863617389e-09,\n",
       "  1.2638655242398511e-09,\n",
       "  1.6484362784679917e-09],\n",
       " 18: [1.7862304703382945e-06,\n",
       "  1.2648962531656517e-09,\n",
       "  3.222937753367968e-08,\n",
       "  5.428662937415222e-08],\n",
       " 19: [1.1458361419901107e-09,\n",
       "  0.0,\n",
       "  6.500161168076338e-07,\n",
       "  2.4896273669474267e-09],\n",
       " 20: [2.90424442655952e-09, 3.4878367115542224e-05, 0.0, 0.0],\n",
       " 21: [3.420202526286614e-08,\n",
       "  0.0004415693151322056,\n",
       "  3.0967141463214043e-06,\n",
       "  0.0],\n",
       " 22: [2.7962161073041916e-05,\n",
       "  8.352753395624889e-05,\n",
       "  0.003071179999910804,\n",
       "  1.5677735951084435e-08],\n",
       " 23: [0.00014358284325042284,\n",
       "  0.008104890435644227,\n",
       "  0.0002548639203781667,\n",
       "  2.9419783411688932e-05],\n",
       " 24: [3.705494956371187e-09,\n",
       "  1.0275831493632176e-13,\n",
       "  9.179769062046584e-10,\n",
       "  1.7466154754400284e-07],\n",
       " 25: [2.043583551524848e-09,\n",
       "  1.0613873567334998e-09,\n",
       "  2.5147030744072926e-07,\n",
       "  6.646348807823571e-09],\n",
       " 26: [3.7500929144083236e-07,\n",
       "  1.457064252849085e-10,\n",
       "  1.1578793924743032e-21,\n",
       "  3.660948925935941e-11],\n",
       " 27: [0.0, 0.0, 0.0, 2.9515034792741825e-08],\n",
       " 28: [0.0, 0.0, 0.0, 1.3454533875614305e-06],\n",
       " 29: [3.082303533202762e-07, 1.6639068950518946e-09, 0.0, 0.0],\n",
       " 30: [0.0, 0.0037625603684705577, 0.0, 0.0],\n",
       " 31: [0.00010412159939396048,\n",
       "  8.242020231537303e-06,\n",
       "  0.020432419536423937,\n",
       "  6.144225009389048e-07],\n",
       " 32: [0.0, 0.0, 8.954884366595458e-10, 0.0],\n",
       " 33: [3.2122527705397397e-12,\n",
       "  1.981444893746178e-10,\n",
       "  1.0044605594266135e-07,\n",
       "  5.519547507288922e-10],\n",
       " 34: [1.1890823820679826e-07,\n",
       "  5.7188932535662954e-11,\n",
       "  1.1531639150335296e-10,\n",
       "  0.0],\n",
       " 35: [0.0, 0.0, 0.0, 2.0923474162148573e-08],\n",
       " 36: [2.2681346271014287e-08, 0.0, 0.0, 0.0],\n",
       " 37: [3.4291919655126044e-09, 0.0, 0.0, 9.197955284777052e-11],\n",
       " 38: [0.0, 0.0, 1.209954774635237e-09, 0.003168607194173958],\n",
       " 39: [0.0, 0.0006585055299306685, 0.04811493252849446, 1.1928507803700058e-05],\n",
       " 40: [0.0, 7.427487848818757e-16, 0.0, 0.0],\n",
       " 41: [2.84015246449503e-07, 7.462822015856144e-11, 0.0, 0.0],\n",
       " 42: [0.0, 1.7652460201054969e-09, 0.0, 3.586255555121718e-07],\n",
       " 43: [0, 0, 0, 4.489112815963146e-16],\n",
       " 44: [0.0, 0.0, 0.0, 9.279502226750106e-11],\n",
       " 45: [0.0, 0.0, 7.681168460751661e-10, 0],\n",
       " 46: [0.0, 0.0, 0.0, 1.8648764482787664e-07],\n",
       " 47: [0.003206346206450235, 0.12455776603676341, 2.5199135211981125e-05, 0.0],\n",
       " 48: [0.0, 0.0, 0.0, 0.0],\n",
       " 49: [0.0, 9.096170364708975e-19, 0.0, 0.0],\n",
       " 50: [0.0, 0.0, 0, 0.0],\n",
       " 51: [0, 0, 0.0, 0.0],\n",
       " 52: [0.0, 0.0, 0.0, 0.0],\n",
       " 53: [0.0, 0.0, 5.73231861868088e-13, 0.0],\n",
       " 54: [8.940294552488118e-10, 0, 0.0, 0],\n",
       " 55: [0, 0, 0.42257218504941135, 0],\n",
       " 56: [0.0, 0.0, 0.0, 0.0],\n",
       " 57: [0.0, 0.0, 0.0, 0.0],\n",
       " 58: [0.0, 0, 0.0, 0.0],\n",
       " 59: [0.0, 0, 0, 1.6147591827915662e-12],\n",
       " 60: [0.0, 0, 0, 0],\n",
       " 61: [0, 0.0, 0, 0.0],\n",
       " 62: [0, 0, 0, 1.0707022513511831e-12],\n",
       " 63: [8.410797826397178e-08, 0, 0, 0]}"
      ]
     },
     "execution_count": 4,
     "metadata": {},
     "output_type": "execute_result"
    }
   ],
   "source": [
    "policy.Q"
   ]
  },
  {
   "cell_type": "markdown",
   "metadata": {},
   "source": [
    "\n",
    "Inference"
   ]
  },
  {
   "cell_type": "code",
   "execution_count": 7,
   "metadata": {},
   "outputs": [],
   "source": [
    "import importlib\n",
    "import time\n",
    "en = importlib.import_module(\"EnvironmentManager\")\n",
    "en = importlib.reload(en)\n",
    "\n",
    "ag = importlib.import_module(\"Agent\")\n",
    "ag = importlib.reload(ag)\n",
    "agent = ag.Agent()\n",
    "environment = en.EnvironmentManager(render=True)\n",
    "stateSpace = agent.initializeState(environment.stateSpaceSize)"
   ]
  },
  {
   "cell_type": "code",
   "execution_count": 8,
   "metadata": {},
   "outputs": [
    {
     "ename": "",
     "evalue": "",
     "output_type": "error",
     "traceback": [
      "\u001b[1;31mThe Kernel crashed while executing code in the current cell or a previous cell. \n",
      "\u001b[1;31mPlease review the code in the cell(s) to identify a possible cause of the failure. \n",
      "\u001b[1;31mClick <a href='https://aka.ms/vscodeJupyterKernelCrash'>here</a> for more info. \n",
      "\u001b[1;31mView Jupyter <a href='command:jupyter.viewOutput'>log</a> for further details."
     ]
    }
   ],
   "source": [
    "\n",
    "\n",
    "numberOfEpisodes = 10\n",
    "\n",
    "for episode in range(numberOfEpisodes):\n",
    "        \n",
    "    for step in count():\n",
    "      \n",
    "        currentState = agent.getState(environment.observation)\n",
    "        \n",
    "        action = agent.selectAction(currentState, policy)\n",
    "        reward, terminated = environment.step(action)\n",
    "        nextState = agent.getState(environment.observation)\n",
    "        \n",
    "        rewardCounter = rewardCounter + reward\n",
    "        \n",
    "        time.sleep(1)\n",
    "        if terminated:\n",
    "            rewardPerEpisode.append(rewardCounter)\n",
    "            rewardCounter = 0\n",
    "            environment.reset()\n",
    "            break\n",
    "            \n",
    "environment.close()"
   ]
  },
  {
   "cell_type": "code",
   "execution_count": 8,
   "metadata": {},
   "outputs": [
    {
     "data": {
      "text/plain": [
       "29"
      ]
     },
     "execution_count": 8,
     "metadata": {},
     "output_type": "execute_result"
    }
   ],
   "source": [
    "q = {0: [0, 0.0, 0.0, 0],\n",
    " 1: [0.0, 0.0, 0.0, 0],\n",
    " 2: [0.0, 0.0, 0.0, 0],\n",
    " 3: [0.0, 0.0, 0, 0],\n",
    " 4: [29, 8.0, 9.0, 3.0],\n",
    " 5: [0.0, 0.0, 0.0, 0.0],\n",
    " 6: [0.0, 0.0, 0.0, 0],}\n",
    "\n",
    "max(q[4])"
   ]
  },
  {
   "cell_type": "code",
   "execution_count": null,
   "metadata": {},
   "outputs": [],
   "source": [
    "# epsilon_start = 1\n",
    "# epsilon_end = 0.01\n",
    "# epsilon_decay = 0.001\n",
    "\n",
    "\n",
    "# epsilonGreedy = EpsilonGreedyStrategy(epsilon_start, epsilon_end, epsilon_decay)"
   ]
  },
  {
   "cell_type": "code",
   "execution_count": 24,
   "metadata": {},
   "outputs": [],
   "source": [
    "environment.close()"
   ]
  },
  {
   "cell_type": "code",
   "execution_count": null,
   "metadata": {},
   "outputs": [],
   "source": []
  },
  {
   "cell_type": "code",
   "execution_count": null,
   "metadata": {},
   "outputs": [],
   "source": []
  },
  {
   "cell_type": "code",
   "execution_count": null,
   "metadata": {},
   "outputs": [],
   "source": [
    "\n"
   ]
  },
  {
   "cell_type": "code",
   "execution_count": null,
   "metadata": {},
   "outputs": [],
   "source": []
  },
  {
   "cell_type": "code",
   "execution_count": null,
   "metadata": {},
   "outputs": [],
   "source": []
  }
 ],
 "metadata": {
  "kernelspec": {
   "display_name": "Python 3",
   "language": "python",
   "name": "python3"
  },
  "language_info": {
   "codemirror_mode": {
    "name": "ipython",
    "version": 3
   },
   "file_extension": ".py",
   "mimetype": "text/x-python",
   "name": "python",
   "nbconvert_exporter": "python",
   "pygments_lexer": "ipython3",
   "version": "3.12.2"
  }
 },
 "nbformat": 4,
 "nbformat_minor": 2
}
