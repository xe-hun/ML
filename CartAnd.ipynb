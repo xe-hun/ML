{
 "cells": [
  {
   "cell_type": "code",
   "execution_count": 1,
   "metadata": {},
   "outputs": [],
   "source": [
    "from CartAndPole.QLearningTabular.Agent import Agent\n",
    "from CartAndPole.QLearningTabular.LinearFunctionApprxPolicy import LinearFunctionApprxPolicy as Policy\n",
    "from Core.Utility.EpsilonGreedyStrategy import EpsilonGreedyStrategy\n",
    "from CartAndPole.QLearningTabular.EnvironmentManager import EnvironmentManager\n",
    "from IPython.display import clear_output, display\n",
    "from itertools import count\n",
    "from Core.Utility.Helper import Helper\n",
    "from Core.Utility.DecayingLearningRate import DecayingLearningRate\n",
    "from Core.Utility.UCB import UCB \n",
    "from Core.Utility.ReplayMemory import ReplayMemory\n",
    "import numpy as np\n",
    "from collections import namedtuple\n"
   ]
  },
  {
   "cell_type": "code",
   "execution_count": null,
   "metadata": {},
   "outputs": [],
   "source": [
    "\n",
    "\n",
    "Experience = namedtuple(\n",
    "    'Experience',\n",
    "    ('currentState', 'action', 'nextState', 'reward')\n",
    ")\n",
    "\n",
    "def extract_experience(experiences):\n",
    "    batch = Experience(*zip(*experiences))\n",
    "    currentStates = np.vstack(batch.currentState)\n",
    "    action = np.array(batch.action)\n",
    "    nextState = np.vstack(batch.nextState)\n",
    "    reward = np.array(batch.reward)\n",
    "    \n",
    "    return currentState, action, nextState, reward\n",
    "\n",
    "\n",
    "epsilon_start = 1\n",
    "epsilon_end = 0.01\n",
    "epsilon_decay = 0.001\n",
    "\n",
    "initial_lr = 0.01\n",
    "decay_rate = 0.000002\n",
    "min_lr = 0.001\n",
    "\n",
    "capacity = 5000\n",
    "batchSize = 256\n",
    "\n",
    "\n",
    "agent = Agent()\n",
    "stateSpace = agent.initializeState()\n",
    "epsilonGreedy = EpsilonGreedyStrategy(epsilon_start, epsilon_end, epsilon_decay)\n",
    "decayingLearningRate = DecayingLearningRate(initial_lr, decay_rate, min_lr)\n",
    "environment = EnvironmentManager('CartPole-v1')\n",
    "policy = Policy() \n",
    "policy.initializePolicy(stateSpace, environment.actionSpace.n)\n",
    "# ucb = UCB(environment.actionSpace.n, len(stateSpace), .1)\n",
    "replayMemory = ReplayMemory(capacity)\n",
    "\n",
    "\n",
    "numberOfEpisodes = 100000\n",
    "score = [0]\n",
    "scoreCounter = 0\n",
    "stateDict = dict(zip(stateSpace, range(len(stateSpace))))\n",
    "for episode in range(numberOfEpisodes):\n",
    "    stateHasChanged = True\n",
    "        \n",
    "    for step in count():\n",
    "        \n",
    "        currentState = agent.getState(environment.observation)\n",
    "        action = epsilonGreedy.chooseAction(currentState, policy, episode)\n",
    "        reward, terminated = environment.step(action)\n",
    "        nextState = agent.getState(environment.observation)\n",
    "        trainingReward = -10 if terminated else reward\n",
    "        replayMemory.push(Experience(\n",
    "            currentState, action, nextState, reward\n",
    "        ))\n",
    "        \n",
    "        if (replayMemory.canProvideSample(batchSize)):\n",
    "            experienceSample = replayMemory.sample(batchSize)\n",
    "            experiences = extract_experience(experienceSample)\n",
    "            policy.train(*experiences, step)\n",
    "            \n",
    "            \n",
    "            \n",
    "        \n",
    "        \n",
    "        \n",
    "        # selectionPolicy.train(currentState, nextState, reward, action, updatePolicy)\n",
    "\n",
    "         \n",
    "        \n",
    "        \n",
    "      \n",
    "        \n",
    "        scoreCounter += reward\n",
    "        \n",
    "        \n",
    "        \n",
    "        if terminated:\n",
    "            \n",
    "            score.append(scoreCounter)\n",
    "            scoreCounter = 0\n",
    "            environment.reset()\n",
    "            \n",
    "            if(episode % 200 == 0):\n",
    "                clear_output(wait=True)\n",
    "                display(f\"episode {episode}\")\n",
    "                display(int(Helper.getMovingAverage3(300, score)))\n",
    "                # utility.plot(300 ,score)\n",
    "            \n",
    "            break\n",
    "        \n",
    "       \n",
    "            \n",
    "            \n",
    "environment.close()"
   ]
  },
  {
   "cell_type": "code",
   "execution_count": 1,
   "metadata": {},
   "outputs": [
    {
     "name": "stdout",
     "output_type": "stream",
     "text": [
      "rin\n"
     ]
    }
   ],
   "source": [
    "print('rin')"
   ]
  },
  {
   "cell_type": "code",
   "execution_count": 6,
   "metadata": {},
   "outputs": [
    {
     "ename": "ModuleNotFoundError",
     "evalue": "No module named 'numpy'",
     "output_type": "error",
     "traceback": [
      "\u001b[1;31m---------------------------------------------------------------------------\u001b[0m",
      "\u001b[1;31mModuleNotFoundError\u001b[0m                       Traceback (most recent call last)",
      "Cell \u001b[1;32mIn[6], line 1\u001b[0m\n\u001b[1;32m----> 1\u001b[0m \u001b[38;5;28;01mimport\u001b[39;00m \u001b[38;5;21;01mnumpy\u001b[39;00m \u001b[38;5;28;01mas\u001b[39;00m \u001b[38;5;21;01mnp\u001b[39;00m\n\u001b[0;32m      3\u001b[0m \u001b[38;5;28minput\u001b[39m \u001b[38;5;241m=\u001b[39m np\u001b[38;5;241m.\u001b[39mrandom\u001b[38;5;241m.\u001b[39mrandn(\u001b[38;5;241m2\u001b[39m, \u001b[38;5;241m1\u001b[39m)\n",
      "\u001b[1;31mModuleNotFoundError\u001b[0m: No module named 'numpy'"
     ]
    }
   ],
   "source": [
    "import numpy as np\n",
    "\n",
    "input = np.random.randn(2, 1)"
   ]
  },
  {
   "cell_type": "code",
   "execution_count": null,
   "metadata": {},
   "outputs": [],
   "source": []
  }
 ],
 "metadata": {
  "kernelspec": {
   "display_name": "Python 3",
   "language": "python",
   "name": "python3"
  },
  "language_info": {
   "codemirror_mode": {
    "name": "ipython",
    "version": 3
   },
   "file_extension": ".py",
   "mimetype": "text/x-python",
   "name": "python",
   "nbconvert_exporter": "python",
   "pygments_lexer": "ipython3",
   "version": "3.12.3"
  }
 },
 "nbformat": 4,
 "nbformat_minor": 2
}
